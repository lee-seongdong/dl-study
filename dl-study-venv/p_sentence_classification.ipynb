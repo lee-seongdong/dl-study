{
 "cells": [
  {
   "cell_type": "code",
   "execution_count": 1,
   "metadata": {},
   "outputs": [],
   "source": [
    "import argparse\n",
    "import random\n",
    "\n",
    "import matplotlib.pyplot as plt\n",
    "import numpy as np\n",
    "import torch"
   ]
  },
  {
   "cell_type": "code",
   "execution_count": 2,
   "metadata": {},
   "outputs": [
    {
     "name": "stdout",
     "output_type": "stream",
     "text": [
      "Namespace(seed=1234, n_epoch=200, n_batch=2, lr=0.001, save_path='../data/model/p_sentence_classification.pth', device=device(type='cuda'))\n"
     ]
    }
   ],
   "source": [
    "args = {\n",
    "    'seed': 1234,\n",
    "    'n_epoch': 200,\n",
    "    'n_batch': 2,\n",
    "    'lr': 0.001,\n",
    "    'save_path': '../data/model/p_sentence_classification.pth',\n",
    "    'device': torch.device('cuda' if torch.cuda.is_available() else 'cpu')\n",
    "}\n",
    "args = argparse.Namespace(**args)\n",
    "print(args)"
   ]
  },
  {
   "cell_type": "code",
   "execution_count": null,
   "metadata": {},
   "outputs": [],
   "source": [
    "random.seed(args.seed)\n",
    "np.random.seed(args.seed)\n",
    "torch.manual_seed(args.seed)\n",
    "torch.cuda.manual_seed_all(args.seed)"
   ]
  },
  {
   "cell_type": "code",
   "execution_count": 3,
   "metadata": {},
   "outputs": [],
   "source": [
    "raw_inputs = [\n",
    "    '나는 학생 입니다.',\n",
    "    '나는 선생님 입니다.',\n",
    "    '당신은 좋은 선생님 입니다.'\n",
    "]\n",
    "\n",
    "raw_labels = [1, 0, 0]"
   ]
  },
  {
   "cell_type": "code",
   "execution_count": 10,
   "metadata": {},
   "outputs": [
    {
     "name": "stdout",
     "output_type": "stream",
     "text": [
      "['나는', '학생', '입니다.', '선생님', '당신은', '좋은']\n",
      "{'[PAD]': 0, '[UNK]': 1, '나는': 2, '학생': 3, '입니다.': 4, '선생님': 5, '당신은': 6, '좋은': 7}\n",
      "{0: '[PAD]', 1: '[UNK]', 2: '나는', 3: '학생', 4: '입니다.', 5: '선생님', 6: '당신은', 7: '좋은'}\n"
     ]
    }
   ],
   "source": [
    "# words\n",
    "words = []\n",
    "for s in raw_inputs:\n",
    "    words.extend(s.split())\n",
    "words = list(dict.fromkeys(words))\n",
    "print(words)\n",
    "\n",
    "# wti\n",
    "word_to_id = {'[PAD]': 0, '[UNK]': 1}\n",
    "for w in words:\n",
    "    word_to_id[w] = len(word_to_id)\n",
    "print(word_to_id)\n",
    "\n",
    "# itw\n",
    "id_to_word = {i: w for w, i in word_to_id.items()}\n",
    "print(id_to_word)"
   ]
  },
  {
   "cell_type": "code",
   "execution_count": 16,
   "metadata": {},
   "outputs": [
    {
     "name": "stdout",
     "output_type": "stream",
     "text": [
      "[[2, 3, 4], [2, 5, 4], [6, 7, 5, 4]]\n",
      "[1, 0, 0]\n"
     ]
    }
   ],
   "source": [
    "inputs = []\n",
    "for s in raw_inputs:\n",
    "    inputs.append([word_to_id[w] for w in s.split()])\n",
    "print(inputs)\n",
    "\n",
    "labels = raw_labels\n",
    "print(labels)"
   ]
  },
  {
   "cell_type": "code",
   "execution_count": 18,
   "metadata": {},
   "outputs": [],
   "source": [
    "class SimpleDataSet(torch.utils.data.Dataset):\n",
    "    def __init__(self, inputs, labels):\n",
    "        self.inputs = inputs\n",
    "        self.labels = labels\n",
    "    \n",
    "    def __len__(self):\n",
    "        assert len(self.inputs) == len(self.labels)\n",
    "        return len(self.inputs)\n",
    "    \n",
    "    def __getitem__(self, index):\n",
    "        return (\n",
    "            torch.tensor(self.inputs[index]),\n",
    "            torch.tensor(self.labels[index]),\n",
    "        )\n",
    "    \n",
    "    def collate_fn(self, batch):\n",
    "        # batch단위로 데이터 처리\n",
    "\n",
    "        inputs, labels = list(zip(*batch))\n",
    "\n",
    "        inputs = torch.nn.utils.rnn.pad_sequence(inputs, batch_first=True, padding_value=0)\n",
    "        labels = torch.stack(labels)\n",
    "\n",
    "        batch = [\n",
    "            inputs,\n",
    "            labels,\n",
    "        ]\n",
    "\n",
    "        return batch"
   ]
  },
  {
   "cell_type": "code",
   "execution_count": 19,
   "metadata": {},
   "outputs": [
    {
     "name": "stdout",
     "output_type": "stream",
     "text": [
      "3\n"
     ]
    }
   ],
   "source": [
    "dataset = SimpleDataSet(inputs, labels)\n",
    "sampler = torch.utils.data.RandomSampler(dataset)\n",
    "\n",
    "# 원래는 다른 dataset을 사용해야함\n",
    "train_loader = torch.utils.data.DataLoader(dataset, batch_size=args.n_batch, collate_fn=dataset.collate_fn, sampler=sampler)\n",
    "valid_loader = torch.utils.data.DataLoader(dataset, batch_size=args.n_batch, collate_fn=dataset.collate_fn)\n",
    "test_loader = torch.utils.data.DataLoader(dataset, batch_size=args.n_batch, collate_fn=dataset.collate_fn)\n",
    "\n",
    "print(len(dataset))"
   ]
  },
  {
   "cell_type": "code",
   "execution_count": 22,
   "metadata": {},
   "outputs": [
    {
     "name": "stdout",
     "output_type": "stream",
     "text": [
      "tensor([[2, 3, 4]]) tensor([1])\n"
     ]
    }
   ],
   "source": [
    "t_inputs = torch.tensor(inputs[:1])\n",
    "t_labels = torch.tensor(labels[:1])\n",
    "print(t_inputs, t_labels)"
   ]
  },
  {
   "cell_type": "code",
   "execution_count": 35,
   "metadata": {},
   "outputs": [
    {
     "name": "stdout",
     "output_type": "stream",
     "text": [
      "torch.Size([1, 3, 10]) tensor([[[-0.5138,  1.1776,  1.0542, -0.8216, -0.7140, -1.0227, -0.5422,\n",
      "           0.2212, -0.7700, -0.1974],\n",
      "         [ 0.0383,  0.0119, -0.2980,  0.2182, -1.6763,  0.5824,  1.6759,\n",
      "           0.7911, -0.5330, -0.3713],\n",
      "         [-0.5541, -1.7607, -0.4980,  0.6556, -0.5972,  0.7850,  0.5609,\n",
      "          -0.8100, -1.5659, -0.2181]]], grad_fn=<EmbeddingBackward0>)\n",
      "torch.Size([1, 10]) tensor([[ 0.0383,  1.1776,  1.0542,  0.6556, -0.5972,  0.7850,  1.6759,  0.7911,\n",
      "         -0.5330, -0.1974]], grad_fn=<MaxBackward0>)\n",
      "torch.Size([1, 2]) tensor([[0.8738, 1.0231]], grad_fn=<AddmmBackward0>)\n",
      "tensor(0.6213, grad_fn=<NllLossBackward0>)\n"
     ]
    }
   ],
   "source": [
    "embed = torch.nn.Embedding(len(word_to_id), 10)\n",
    "hidden = embed(t_inputs)\n",
    "print(hidden.shape, hidden)\n",
    "\n",
    "hidden, _ = torch.max(hidden, dim=1)\n",
    "print(hidden.shape, hidden)\n",
    "\n",
    "linear = torch.nn.Linear(10, 2)\n",
    "logits = linear(hidden)\n",
    "print(logits.shape, logits)\n",
    "\n",
    "loss_fn = torch.nn.CrossEntropyLoss()\n",
    "loss = loss_fn(logits.view(-1, logits.size(-1)), t_labels.view(-1))\n",
    "print(loss)\n"
   ]
  },
  {
   "cell_type": "code",
   "execution_count": 36,
   "metadata": {},
   "outputs": [],
   "source": [
    "class SentenceClassificationModel(torch.nn.Module):\n",
    "    def __init__(self, n_vocab):\n",
    "        super().__init__()\n",
    "        # embedding layer dim = 10\n",
    "        # class = 2\n",
    "        self.embed = torch.nn.Embedding(n_vocab, 10)\n",
    "        self.linear = torch.nn.Linear(10, 2)\n",
    "\n",
    "    def forward(self, inputs):\n",
    "        hidden = self.embed(inputs)\n",
    "        hidden, _ = torch.max(hidden, dim=1)\n",
    "        logits = self.linear(hidden)\n",
    "        return logits"
   ]
  },
  {
   "cell_type": "code",
   "execution_count": 37,
   "metadata": {},
   "outputs": [
    {
     "name": "stdout",
     "output_type": "stream",
     "text": [
      "SentenceClassificationModel(\n",
      "  (embed): Embedding(8, 10)\n",
      "  (linear): Linear(in_features=10, out_features=2, bias=True)\n",
      ")\n"
     ]
    }
   ],
   "source": [
    "model = SentenceClassificationModel(len(word_to_id))\n",
    "model.to(device=args.device)\n",
    "print(model)\n"
   ]
  },
  {
   "cell_type": "code",
   "execution_count": 38,
   "metadata": {},
   "outputs": [],
   "source": [
    "def accuracy_fn(logits, labels):\n",
    "    _, indices = logits.max(-1)\n",
    "\n",
    "    matchs = torch.eq(indices, labels).cpu().numpy()\n",
    "    total = np.ones_like(matchs)\n",
    "    acc_val = np.sum(matchs) / max(1, np.sum(total))\n",
    "    return acc_val"
   ]
  },
  {
   "cell_type": "code",
   "execution_count": 41,
   "metadata": {},
   "outputs": [],
   "source": [
    "def train_epoch(model: torch.nn.Module, args, loader: torch.utils.data.DataLoader, loss_fn, optimizer: torch.optim.Optimizer):\n",
    "    model.train()\n",
    "    losses, acces = [], []\n",
    "\n",
    "    for batch in loader:\n",
    "        optimizer.zero_grad()\n",
    "        inputs, labels = map(lambda v: v.to(args.device), batch)\n",
    "        logits = model(inputs)\n",
    "        loss = loss_fn(logits.view(-1, logits.size(-1)) , labels.view(-1))\n",
    "        loss.backward()\n",
    "\n",
    "        optimizer.step()\n",
    "        loss_val = loss.item()\n",
    "        losses.append(loss_val)\n",
    "\n",
    "        acc_val = accuracy_fn(logits, labels)\n",
    "        acces.append(acc_val)\n",
    "    \n",
    "    return np.mean(losses), np.mean(acces)"
   ]
  },
  {
   "cell_type": "code",
   "execution_count": 43,
   "metadata": {},
   "outputs": [],
   "source": [
    "def eval_epoch(model: torch.nn.Module, args, loader: torch.utils.data.DataLoader, loss_fn):\n",
    "    model.eval()\n",
    "    losses, acces = [], []\n",
    "\n",
    "    with torch.no_grad():\n",
    "        for batch in loader:\n",
    "            inputs, labels = map(lambda v: v.to(args.device), batch)\n",
    "            logits = model(inputs)\n",
    "            loss = loss_fn(logits.view(-1, logits.size(-1)), labels.view(-1))\n",
    "            \n",
    "            loss_val = loss.item()\n",
    "            losses.append(loss_val)\n",
    "\n",
    "            acc_val = accuracy_fn(logits, labels)\n",
    "            acces.append(acc_val)\n",
    "    \n",
    "    return np.mean(losses), np.mean(acces)"
   ]
  },
  {
   "cell_type": "code",
   "execution_count": 46,
   "metadata": {},
   "outputs": [],
   "source": [
    "def draw_history(history):\n",
    "    plt.figure(figsize=(12, 4))\n",
    "    \n",
    "    plt.subplot(1, 2, 1)\n",
    "    plt.plot(history[\"train_loss\"], \"b-\", label=\"train_loss\")\n",
    "    plt.plot(history[\"valid_loss\"], \"r--\", label=\"valid_loss\")\n",
    "    plt.xlabel(\"Epoch\")\n",
    "    plt.legend()\n",
    "\n",
    "    plt.subplot(1, 2, 2)\n",
    "    plt.plot(history[\"train_acc\"], \"k--\", label=\"train_acc\")\n",
    "    plt.plot(history[\"valid_acc\"], \"k--\", label=\"valid_acc\")\n",
    "    plt.xlabel(\"Epoch\")\n",
    "    plt.legend()\n",
    "\n",
    "    plt.show()"
   ]
  },
  {
   "cell_type": "code",
   "execution_count": 45,
   "metadata": {},
   "outputs": [
    {
     "name": "stdout",
     "output_type": "stream",
     "text": [
      "eopch:   1, train_loss: 1.05911, train_acc:  0.50000, valid_loss: 1.30652, valid_acc: 0.25000\n",
      "  >> save weights: ../data/model/p_sentence_classification.pth\n",
      "eopch:   2, train_loss: 1.30158, train_acc:  0.25000, valid_loss: 1.29071, valid_acc: 0.25000\n",
      "eopch:   3, train_loss: 1.03939, train_acc:  0.50000, valid_loss: 1.27217, valid_acc: 0.25000\n",
      "eopch:   4, train_loss: 1.26625, train_acc:  0.25000, valid_loss: 1.25547, valid_acc: 0.25000\n",
      "eopch:   5, train_loss: 1.02173, train_acc:  0.50000, valid_loss: 1.23746, valid_acc: 0.25000\n",
      "eopch:   6, train_loss: 1.01250, train_acc:  0.50000, valid_loss: 1.22141, valid_acc: 0.25000\n",
      "eopch:   7, train_loss: 1.21600, train_acc:  0.25000, valid_loss: 1.20637, valid_acc: 0.25000\n",
      "eopch:   8, train_loss: 1.11362, train_acc:  0.25000, valid_loss: 1.18944, valid_acc: 0.25000\n",
      "eopch:   9, train_loss: 0.98943, train_acc:  0.50000, valid_loss: 1.17213, valid_acc: 0.25000\n",
      "eopch:  10, train_loss: 0.98092, train_acc:  0.50000, valid_loss: 1.15653, valid_acc: 0.25000\n",
      "eopch:  11, train_loss: 1.15119, train_acc:  0.25000, valid_loss: 1.14198, valid_acc: 0.25000\n",
      "eopch:  12, train_loss: 1.05225, train_acc:  0.25000, valid_loss: 1.12605, valid_acc: 0.25000\n",
      "eopch:  13, train_loss: 1.03645, train_acc:  0.25000, valid_loss: 1.10938, valid_acc: 0.25000\n",
      "eopch:  14, train_loss: 0.95324, train_acc:  0.50000, valid_loss: 1.09274, valid_acc: 0.25000\n",
      "eopch:  15, train_loss: 1.00418, train_acc:  0.25000, valid_loss: 1.07743, valid_acc: 0.25000\n",
      "eopch:  16, train_loss: 0.93938, train_acc:  0.50000, valid_loss: 1.06200, valid_acc: 0.25000\n",
      "eopch:  17, train_loss: 1.05667, train_acc:  0.25000, valid_loss: 1.04792, valid_acc: 0.25000\n",
      "eopch:  18, train_loss: 1.04221, train_acc:  0.25000, valid_loss: 1.03312, valid_acc: 0.25000\n",
      "eopch:  19, train_loss: 1.02716, train_acc:  0.25000, valid_loss: 1.01786, valid_acc: 0.25000\n",
      "eopch:  20, train_loss: 0.91401, train_acc:  0.00000, valid_loss: 1.00258, valid_acc: 0.00000\n",
      "eopch:  21, train_loss: 0.99726, train_acc:  0.00000, valid_loss: 0.98886, valid_acc: 0.00000\n",
      "eopch:  22, train_loss: 0.98331, train_acc:  0.00000, valid_loss: 0.97475, valid_acc: 0.00000\n",
      "eopch:  23, train_loss: 0.89111, train_acc:  0.25000, valid_loss: 0.96032, valid_acc: 0.00000\n",
      "eopch:  24, train_loss: 0.95459, train_acc:  0.00000, valid_loss: 0.94602, valid_acc: 0.00000\n",
      "eopch:  25, train_loss: 0.94025, train_acc:  0.00000, valid_loss: 0.93174, valid_acc: 0.00000\n",
      "eopch:  26, train_loss: 0.87969, train_acc:  0.00000, valid_loss: 0.91774, valid_acc: 0.00000\n",
      "eopch:  27, train_loss: 0.83706, train_acc:  0.25000, valid_loss: 0.90535, valid_acc: 0.00000\n",
      "eopch:  28, train_loss: 0.82511, train_acc:  0.25000, valid_loss: 0.89296, valid_acc: 0.00000\n",
      "eopch:  29, train_loss: 0.88798, train_acc:  0.00000, valid_loss: 0.88070, valid_acc: 0.00000\n",
      "eopch:  30, train_loss: 0.87568, train_acc:  0.00000, valid_loss: 0.86846, valid_acc: 0.00000\n",
      "eopch:  31, train_loss: 0.78917, train_acc:  0.25000, valid_loss: 0.85629, valid_acc: 0.00000\n",
      "eopch:  32, train_loss: 0.85136, train_acc:  0.00000, valid_loss: 0.84446, valid_acc: 0.00000\n",
      "eopch:  33, train_loss: 0.76579, train_acc:  0.25000, valid_loss: 0.83280, valid_acc: 0.00000\n",
      "eopch:  34, train_loss: 0.84678, train_acc:  0.00000, valid_loss: 0.82166, valid_acc: 0.00000\n",
      "eopch:  35, train_loss: 0.84281, train_acc:  0.00000, valid_loss: 0.81210, valid_acc: 0.00000\n",
      "eopch:  36, train_loss: 0.83896, train_acc:  0.00000, valid_loss: 0.80379, valid_acc: 0.00000\n",
      "eopch:  37, train_loss: 0.83518, train_acc:  0.00000, valid_loss: 0.79648, valid_acc: 0.00000\n",
      "eopch:  38, train_loss: 0.72325, train_acc:  0.25000, valid_loss: 0.78989, valid_acc: 0.00000\n",
      "eopch:  39, train_loss: 0.71729, train_acc:  0.25000, valid_loss: 0.78289, valid_acc: 0.00000\n",
      "eopch:  40, train_loss: 0.71069, train_acc:  0.25000, valid_loss: 0.77560, valid_acc: 0.00000\n",
      "eopch:  41, train_loss: 0.82449, train_acc:  0.00000, valid_loss: 0.76820, valid_acc: 0.00000\n",
      "eopch:  42, train_loss: 0.76571, train_acc:  0.00000, valid_loss: 0.76161, valid_acc: 0.50000\n",
      "  >> save weights: ../data/model/p_sentence_classification.pth\n",
      "eopch:  43, train_loss: 0.69123, train_acc:  0.50000, valid_loss: 0.75466, valid_acc: 0.50000\n",
      "eopch:  44, train_loss: 0.68467, train_acc:  0.50000, valid_loss: 0.74760, valid_acc: 0.50000\n",
      "eopch:  45, train_loss: 0.81534, train_acc:  0.25000, valid_loss: 0.74054, valid_acc: 0.50000\n",
      "eopch:  46, train_loss: 0.81262, train_acc:  0.25000, valid_loss: 0.73439, valid_acc: 0.50000\n",
      "eopch:  47, train_loss: 0.66689, train_acc:  0.50000, valid_loss: 0.72895, valid_acc: 0.50000\n",
      "eopch:  48, train_loss: 0.80783, train_acc:  0.25000, valid_loss: 0.72325, valid_acc: 0.50000\n",
      "eopch:  49, train_loss: 0.72146, train_acc:  0.50000, valid_loss: 0.71813, valid_acc: 0.50000\n",
      "eopch:  50, train_loss: 0.71608, train_acc:  0.50000, valid_loss: 0.71256, valid_acc: 0.75000\n",
      "  >> save weights: ../data/model/p_sentence_classification.pth\n",
      "eopch:  51, train_loss: 0.80049, train_acc:  0.25000, valid_loss: 0.70671, valid_acc: 0.75000\n",
      "eopch:  52, train_loss: 0.64395, train_acc:  1.00000, valid_loss: 0.70159, valid_acc: 0.75000\n",
      "eopch:  53, train_loss: 0.79544, train_acc:  0.50000, valid_loss: 0.69627, valid_acc: 0.75000\n",
      "eopch:  54, train_loss: 0.63562, train_acc:  1.00000, valid_loss: 0.69160, valid_acc: 0.75000\n",
      "eopch:  55, train_loss: 0.79067, train_acc:  0.50000, valid_loss: 0.68668, valid_acc: 0.75000\n",
      "eopch:  56, train_loss: 0.62799, train_acc:  1.00000, valid_loss: 0.68235, valid_acc: 0.75000\n",
      "eopch:  57, train_loss: 0.78609, train_acc:  0.50000, valid_loss: 0.67773, valid_acc: 0.75000\n",
      "eopch:  58, train_loss: 0.62092, train_acc:  1.00000, valid_loss: 0.67366, valid_acc: 0.75000\n",
      "eopch:  59, train_loss: 0.61743, train_acc:  1.00000, valid_loss: 0.66935, valid_acc: 0.75000\n",
      "eopch:  60, train_loss: 0.66763, train_acc:  0.75000, valid_loss: 0.66476, valid_acc: 0.75000\n",
      "eopch:  61, train_loss: 0.77859, train_acc:  0.50000, valid_loss: 0.65995, valid_acc: 0.75000\n",
      "eopch:  62, train_loss: 0.65846, train_acc:  0.75000, valid_loss: 0.65565, valid_acc: 0.75000\n",
      "eopch:  63, train_loss: 0.77410, train_acc:  0.50000, valid_loss: 0.65109, valid_acc: 0.75000\n",
      "eopch:  64, train_loss: 0.59924, train_acc:  1.00000, valid_loss: 0.64712, valid_acc: 0.75000\n",
      "eopch:  65, train_loss: 0.59602, train_acc:  1.00000, valid_loss: 0.64302, valid_acc: 0.75000\n",
      "eopch:  66, train_loss: 0.76797, train_acc:  0.50000, valid_loss: 0.63877, valid_acc: 0.75000\n",
      "eopch:  67, train_loss: 0.76555, train_acc:  0.50000, valid_loss: 0.63499, valid_acc: 0.75000\n",
      "eopch:  68, train_loss: 0.63403, train_acc:  0.75000, valid_loss: 0.63154, valid_acc: 0.75000\n",
      "eopch:  69, train_loss: 0.63034, train_acc:  0.75000, valid_loss: 0.62772, valid_acc: 0.75000\n",
      "eopch:  70, train_loss: 0.62633, train_acc:  0.75000, valid_loss: 0.62362, valid_acc: 0.75000\n",
      "eopch:  71, train_loss: 0.57852, train_acc:  0.75000, valid_loss: 0.61944, valid_acc: 0.75000\n",
      "eopch:  72, train_loss: 0.75427, train_acc:  0.50000, valid_loss: 0.61522, valid_acc: 0.75000\n",
      "eopch:  73, train_loss: 0.75171, train_acc:  0.50000, valid_loss: 0.61147, valid_acc: 0.75000\n",
      "eopch:  74, train_loss: 0.74876, train_acc:  0.50000, valid_loss: 0.60810, valid_acc: 0.75000\n",
      "eopch:  75, train_loss: 0.60741, train_acc:  0.75000, valid_loss: 0.60500, valid_acc: 0.75000\n",
      "eopch:  76, train_loss: 0.74269, train_acc:  0.50000, valid_loss: 0.60159, valid_acc: 0.75000\n",
      "eopch:  77, train_loss: 0.73931, train_acc:  0.50000, valid_loss: 0.59849, valid_acc: 0.75000\n",
      "eopch:  78, train_loss: 0.73568, train_acc:  0.50000, valid_loss: 0.59564, valid_acc: 0.75000\n",
      "eopch:  79, train_loss: 0.73186, train_acc:  0.50000, valid_loss: 0.59298, valid_acc: 0.75000\n",
      "eopch:  80, train_loss: 0.56115, train_acc:  0.75000, valid_loss: 0.59058, valid_acc: 0.75000\n",
      "eopch:  81, train_loss: 0.59006, train_acc:  0.75000, valid_loss: 0.58779, valid_acc: 0.75000\n",
      "eopch:  82, train_loss: 0.58700, train_acc:  0.75000, valid_loss: 0.58462, valid_acc: 0.75000\n",
      "eopch:  83, train_loss: 0.71962, train_acc:  0.50000, valid_loss: 0.58119, valid_acc: 0.75000\n",
      "eopch:  84, train_loss: 0.58044, train_acc:  0.75000, valid_loss: 0.57804, valid_acc: 0.75000\n",
      "eopch:  85, train_loss: 0.71367, train_acc:  0.50000, valid_loss: 0.57464, valid_acc: 0.75000\n",
      "eopch:  86, train_loss: 0.71035, train_acc:  0.50000, valid_loss: 0.57154, valid_acc: 0.75000\n",
      "eopch:  87, train_loss: 0.54884, train_acc:  0.75000, valid_loss: 0.56879, valid_acc: 0.75000\n",
      "eopch:  88, train_loss: 0.54708, train_acc:  0.75000, valid_loss: 0.56590, valid_acc: 0.75000\n",
      "eopch:  89, train_loss: 0.56500, train_acc:  0.75000, valid_loss: 0.56276, valid_acc: 0.75000\n",
      "eopch:  90, train_loss: 0.54255, train_acc:  0.75000, valid_loss: 0.55951, valid_acc: 0.75000\n",
      "eopch:  91, train_loss: 0.55837, train_acc:  0.75000, valid_loss: 0.55612, valid_acc: 0.75000\n",
      "eopch:  92, train_loss: 0.69658, train_acc:  0.50000, valid_loss: 0.55259, valid_acc: 0.75000\n",
      "eopch:  93, train_loss: 0.69409, train_acc:  0.50000, valid_loss: 0.54942, valid_acc: 0.75000\n",
      "eopch:  94, train_loss: 0.53295, train_acc:  0.75000, valid_loss: 0.54662, valid_acc: 0.75000\n",
      "eopch:  95, train_loss: 0.53089, train_acc:  0.75000, valid_loss: 0.54376, valid_acc: 0.75000\n",
      "eopch:  96, train_loss: 0.68731, train_acc:  0.50000, valid_loss: 0.54074, valid_acc: 0.75000\n",
      "eopch:  97, train_loss: 0.52663, train_acc:  0.75000, valid_loss: 0.53808, valid_acc: 0.75000\n",
      "eopch:  98, train_loss: 0.53726, train_acc:  0.75000, valid_loss: 0.53522, valid_acc: 0.75000\n",
      "eopch:  99, train_loss: 0.52227, train_acc:  0.75000, valid_loss: 0.53230, valid_acc: 0.75000\n",
      "eopch: 100, train_loss: 0.51982, train_acc:  0.75000, valid_loss: 0.52940, valid_acc: 0.75000\n",
      "eopch: 101, train_loss: 0.51724, train_acc:  0.75000, valid_loss: 0.52653, valid_acc: 0.75000\n",
      "eopch: 102, train_loss: 0.51459, train_acc:  0.75000, valid_loss: 0.52369, valid_acc: 0.75000\n",
      "eopch: 103, train_loss: 0.51189, train_acc:  0.75000, valid_loss: 0.52091, valid_acc: 0.75000\n",
      "eopch: 104, train_loss: 0.51979, train_acc:  0.75000, valid_loss: 0.51803, valid_acc: 0.75000\n",
      "eopch: 105, train_loss: 0.50653, train_acc:  0.75000, valid_loss: 0.51521, valid_acc: 0.75000\n",
      "eopch: 106, train_loss: 0.67482, train_acc:  0.50000, valid_loss: 0.51234, valid_acc: 0.75000\n",
      "eopch: 107, train_loss: 0.67317, train_acc:  0.50000, valid_loss: 0.50968, valid_acc: 0.75000\n",
      "eopch: 108, train_loss: 0.67079, train_acc:  0.50000, valid_loss: 0.50718, valid_acc: 0.75000\n",
      "eopch: 109, train_loss: 0.49868, train_acc:  0.75000, valid_loss: 0.50494, valid_acc: 0.75000\n",
      "eopch: 110, train_loss: 0.49710, train_acc:  0.75000, valid_loss: 0.50268, valid_acc: 0.75000\n",
      "eopch: 111, train_loss: 0.49533, train_acc:  0.75000, valid_loss: 0.50046, valid_acc: 0.75000\n",
      "eopch: 112, train_loss: 0.49346, train_acc:  0.75000, valid_loss: 0.49826, valid_acc: 0.75000\n",
      "eopch: 113, train_loss: 0.49751, train_acc:  0.75000, valid_loss: 0.49591, valid_acc: 0.75000\n",
      "eopch: 114, train_loss: 0.48954, train_acc:  0.75000, valid_loss: 0.49358, valid_acc: 0.75000\n",
      "eopch: 115, train_loss: 0.48749, train_acc:  0.75000, valid_loss: 0.49130, valid_acc: 0.75000\n",
      "eopch: 116, train_loss: 0.49044, train_acc:  0.75000, valid_loss: 0.48892, valid_acc: 0.75000\n",
      "eopch: 117, train_loss: 0.48804, train_acc:  0.75000, valid_loss: 0.48645, valid_acc: 0.75000\n",
      "eopch: 118, train_loss: 0.65605, train_acc:  0.50000, valid_loss: 0.48390, valid_acc: 0.75000\n",
      "eopch: 119, train_loss: 0.65396, train_acc:  0.50000, valid_loss: 0.48148, valid_acc: 0.75000\n",
      "eopch: 120, train_loss: 0.65115, train_acc:  0.50000, valid_loss: 0.47917, valid_acc: 0.75000\n",
      "eopch: 121, train_loss: 0.47753, train_acc:  0.75000, valid_loss: 0.47708, valid_acc: 0.75000\n",
      "eopch: 122, train_loss: 0.64507, train_acc:  0.50000, valid_loss: 0.47489, valid_acc: 0.75000\n",
      "eopch: 123, train_loss: 0.47529, train_acc:  0.75000, valid_loss: 0.47289, valid_acc: 0.75000\n",
      "eopch: 124, train_loss: 0.47256, train_acc:  0.75000, valid_loss: 0.47077, valid_acc: 0.75000\n",
      "eopch: 125, train_loss: 0.63653, train_acc:  0.50000, valid_loss: 0.46852, valid_acc: 0.75000\n",
      "eopch: 126, train_loss: 0.46824, train_acc:  0.75000, valid_loss: 0.46632, valid_acc: 0.75000\n",
      "eopch: 127, train_loss: 0.47041, train_acc:  0.75000, valid_loss: 0.46416, valid_acc: 0.75000\n",
      "eopch: 128, train_loss: 0.46368, train_acc:  0.75000, valid_loss: 0.46191, valid_acc: 0.75000\n",
      "eopch: 129, train_loss: 0.46135, train_acc:  0.75000, valid_loss: 0.45955, valid_acc: 0.75000\n",
      "eopch: 130, train_loss: 0.62355, train_acc:  0.50000, valid_loss: 0.45713, valid_acc: 0.75000\n",
      "eopch: 131, train_loss: 0.45671, train_acc:  0.75000, valid_loss: 0.45481, valid_acc: 0.75000\n",
      "eopch: 132, train_loss: 0.46335, train_acc:  0.75000, valid_loss: 0.45255, valid_acc: 0.75000\n",
      "eopch: 133, train_loss: 0.61574, train_acc:  0.50000, valid_loss: 0.45025, valid_acc: 0.75000\n",
      "eopch: 134, train_loss: 0.44989, train_acc:  0.75000, valid_loss: 0.44803, valid_acc: 0.75000\n",
      "eopch: 135, train_loss: 0.45934, train_acc:  0.75000, valid_loss: 0.44586, valid_acc: 0.75000\n",
      "eopch: 136, train_loss: 0.45786, train_acc:  0.75000, valid_loss: 0.44378, valid_acc: 0.75000\n",
      "eopch: 137, train_loss: 0.60616, train_acc:  0.50000, valid_loss: 0.44163, valid_acc: 0.75000\n",
      "eopch: 138, train_loss: 0.45509, train_acc:  0.75000, valid_loss: 0.43967, valid_acc: 0.75000\n",
      "eopch: 139, train_loss: 0.43924, train_acc:  0.75000, valid_loss: 0.43762, valid_acc: 0.75000\n",
      "eopch: 140, train_loss: 0.43712, train_acc:  0.75000, valid_loss: 0.43547, valid_acc: 0.75000\n",
      "eopch: 141, train_loss: 0.45071, train_acc:  0.75000, valid_loss: 0.43340, valid_acc: 0.75000\n",
      "eopch: 142, train_loss: 0.59568, train_acc:  0.50000, valid_loss: 0.43126, valid_acc: 0.75000\n",
      "eopch: 143, train_loss: 0.44790, train_acc:  0.75000, valid_loss: 0.42932, valid_acc: 0.75000\n",
      "eopch: 144, train_loss: 0.42889, train_acc:  0.75000, valid_loss: 0.42730, valid_acc: 0.75000\n",
      "eopch: 145, train_loss: 0.44503, train_acc:  0.75000, valid_loss: 0.42534, valid_acc: 0.75000\n",
      "eopch: 146, train_loss: 0.44349, train_acc:  0.75000, valid_loss: 0.42346, valid_acc: 0.75000\n",
      "eopch: 147, train_loss: 0.58615, train_acc:  0.50000, valid_loss: 0.42151, valid_acc: 0.75000\n",
      "eopch: 148, train_loss: 0.44071, train_acc:  0.75000, valid_loss: 0.41969, valid_acc: 0.75000\n",
      "eopch: 149, train_loss: 0.58206, train_acc:  0.50000, valid_loss: 0.41779, valid_acc: 0.75000\n",
      "eopch: 150, train_loss: 0.57944, train_acc:  0.50000, valid_loss: 0.41588, valid_acc: 0.75000\n",
      "eopch: 151, train_loss: 0.57620, train_acc:  0.50000, valid_loss: 0.41396, valid_acc: 0.75000\n",
      "eopch: 152, train_loss: 0.43651, train_acc:  0.75000, valid_loss: 0.41218, valid_acc: 0.75000\n",
      "eopch: 153, train_loss: 0.43542, train_acc:  0.75000, valid_loss: 0.41045, valid_acc: 0.75000\n",
      "eopch: 154, train_loss: 0.43420, train_acc:  0.75000, valid_loss: 0.40876, valid_acc: 0.75000\n",
      "eopch: 155, train_loss: 0.43287, train_acc:  0.75000, valid_loss: 0.40710, valid_acc: 0.75000\n",
      "eopch: 156, train_loss: 0.40674, train_acc:  0.75000, valid_loss: 0.40532, valid_acc: 0.75000\n",
      "eopch: 157, train_loss: 0.40491, train_acc:  0.75000, valid_loss: 0.40345, valid_acc: 0.75000\n",
      "eopch: 158, train_loss: 0.42859, train_acc:  0.75000, valid_loss: 0.40162, valid_acc: 0.75000\n",
      "eopch: 159, train_loss: 0.55798, train_acc:  0.50000, valid_loss: 0.39973, valid_acc: 0.75000\n",
      "eopch: 160, train_loss: 0.39942, train_acc:  0.75000, valid_loss: 0.39783, valid_acc: 0.75000\n",
      "eopch: 161, train_loss: 0.42461, train_acc:  0.75000, valid_loss: 0.39600, valid_acc: 0.75000\n",
      "eopch: 162, train_loss: 0.39559, train_acc:  0.75000, valid_loss: 0.39410, valid_acc: 0.75000\n",
      "eopch: 163, train_loss: 0.54955, train_acc:  0.50000, valid_loss: 0.39215, valid_acc: 0.75000\n",
      "eopch: 164, train_loss: 0.54693, train_acc:  0.50000, valid_loss: 0.39019, valid_acc: 0.75000\n",
      "eopch: 165, train_loss: 0.54372, train_acc:  0.50000, valid_loss: 0.38823, valid_acc: 0.75000\n",
      "eopch: 166, train_loss: 0.38816, train_acc:  0.75000, valid_loss: 0.38630, valid_acc: 0.75000\n",
      "eopch: 167, train_loss: 0.41794, train_acc:  0.75000, valid_loss: 0.38444, valid_acc: 0.75000\n",
      "eopch: 168, train_loss: 0.38420, train_acc:  0.75000, valid_loss: 0.38251, valid_acc: 0.75000\n",
      "eopch: 169, train_loss: 0.41550, train_acc:  0.75000, valid_loss: 0.38068, valid_acc: 0.75000\n",
      "eopch: 170, train_loss: 0.52914, train_acc:  0.50000, valid_loss: 0.37880, valid_acc: 0.75000\n",
      "eopch: 171, train_loss: 0.52636, train_acc:  0.50000, valid_loss: 0.37691, valid_acc: 0.75000\n",
      "eopch: 172, train_loss: 0.41223, train_acc:  0.75000, valid_loss: 0.37515, valid_acc: 0.75000\n",
      "eopch: 173, train_loss: 0.52034, train_acc:  0.50000, valid_loss: 0.37333, valid_acc: 0.75000\n",
      "eopch: 174, train_loss: 0.37322, train_acc:  0.75000, valid_loss: 0.37149, valid_acc: 0.75000\n",
      "eopch: 175, train_loss: 0.51410, train_acc:  0.50000, valid_loss: 0.36960, valid_acc: 0.75000\n",
      "eopch: 176, train_loss: 0.36949, train_acc:  0.75000, valid_loss: 0.36771, valid_acc: 0.75000\n",
      "eopch: 177, train_loss: 0.36752, train_acc:  0.75000, valid_loss: 0.36578, valid_acc: 0.75000\n",
      "eopch: 178, train_loss: 0.40593, train_acc:  0.75000, valid_loss: 0.36394, valid_acc: 0.75000\n",
      "eopch: 179, train_loss: 0.50229, train_acc:  0.50000, valid_loss: 0.36204, valid_acc: 0.75000\n",
      "eopch: 180, train_loss: 0.36184, train_acc:  0.75000, valid_loss: 0.36016, valid_acc: 0.75000\n",
      "eopch: 181, train_loss: 0.49667, train_acc:  0.50000, valid_loss: 0.35824, valid_acc: 0.75000\n",
      "eopch: 182, train_loss: 0.49355, train_acc:  0.50000, valid_loss: 0.35635, valid_acc: 0.75000\n",
      "eopch: 183, train_loss: 0.49010, train_acc:  0.50000, valid_loss: 0.35447, valid_acc: 0.75000\n",
      "eopch: 184, train_loss: 0.35443, train_acc:  0.75000, valid_loss: 0.35262, valid_acc: 1.00000\n",
      "  >> save weights: ../data/model/p_sentence_classification.pth\n",
      "eopch: 185, train_loss: 0.35248, train_acc:  1.00000, valid_loss: 0.35073, valid_acc: 1.00000\n",
      "eopch: 186, train_loss: 0.47996, train_acc:  1.00000, valid_loss: 0.34881, valid_acc: 1.00000\n",
      "eopch: 187, train_loss: 0.47662, train_acc:  1.00000, valid_loss: 0.34692, valid_acc: 1.00000\n",
      "eopch: 188, train_loss: 0.47304, train_acc:  1.00000, valid_loss: 0.34507, valid_acc: 1.00000\n",
      "eopch: 189, train_loss: 0.39546, train_acc:  1.00000, valid_loss: 0.34337, valid_acc: 1.00000\n",
      "eopch: 190, train_loss: 0.46619, train_acc:  1.00000, valid_loss: 0.34159, valid_acc: 1.00000\n",
      "eopch: 191, train_loss: 0.34152, train_acc:  1.00000, valid_loss: 0.33983, valid_acc: 1.00000\n",
      "eopch: 192, train_loss: 0.39258, train_acc:  1.00000, valid_loss: 0.33813, valid_acc: 1.00000\n",
      "eopch: 193, train_loss: 0.33789, train_acc:  1.00000, valid_loss: 0.33634, valid_acc: 1.00000\n",
      "eopch: 194, train_loss: 0.33604, train_acc:  1.00000, valid_loss: 0.33450, valid_acc: 1.00000\n",
      "eopch: 195, train_loss: 0.38876, train_acc:  1.00000, valid_loss: 0.33273, valid_acc: 1.00000\n",
      "eopch: 196, train_loss: 0.33234, train_acc:  1.00000, valid_loss: 0.33089, valid_acc: 1.00000\n",
      "eopch: 197, train_loss: 0.33048, train_acc:  1.00000, valid_loss: 0.32903, valid_acc: 1.00000\n",
      "eopch: 198, train_loss: 0.44707, train_acc:  1.00000, valid_loss: 0.32714, valid_acc: 1.00000\n",
      "eopch: 199, train_loss: 0.32682, train_acc:  1.00000, valid_loss: 0.32529, valid_acc: 1.00000\n",
      "eopch: 200, train_loss: 0.32493, train_acc:  1.00000, valid_loss: 0.32343, valid_acc: 1.00000\n"
     ]
    }
   ],
   "source": [
    "loss_fn = torch.nn.CrossEntropyLoss()\n",
    "optimizer = torch.optim.Adam(model.parameters(), lr=args.lr)\n",
    "history = {'train_loss': [], 'train_acc': [], 'valid_loss': [], 'valid_acc': []}\n",
    "best_acc = 0\n",
    "\n",
    "for e in range(args.n_epoch):\n",
    "    train_loss, train_acc = train_epoch(model, args, train_loader, loss_fn, optimizer)\n",
    "    valid_loss, valid_acc = eval_epoch(model, args, valid_loader, loss_fn)\n",
    "\n",
    "    history[\"train_loss\"].append(train_loss)\n",
    "    history[\"train_acc\"].append(train_acc)\n",
    "    history[\"valid_loss\"].append(valid_loss)\n",
    "    history[\"valid_acc\"].append(valid_acc)\n",
    "    print(f\"eopch: {e + 1:3d}, train_loss: {train_loss:.5f}, train_acc: {train_acc: .5f}, valid_loss: {valid_loss:.5f}, valid_acc: {valid_acc:.5f}\")\n",
    "    \n",
    "    if best_acc < valid_acc:\n",
    "        best_acc = valid_acc\n",
    "        torch.save({\"state_dict\": model.state_dict(), \"valid_acc\": valid_acc}, args.save_path)\n",
    "        print(f\"  >> save weights: {args.save_path}\")\n"
   ]
  },
  {
   "cell_type": "code",
   "execution_count": 56,
   "metadata": {},
   "outputs": [
    {
     "data": {
      "image/png": "[encoded data removed]",
      "text/plain": [
       "<Figure size 1200x400 with 2 Axes>"
      ]
     },
     "metadata": {},
     "output_type": "display_data"
    }
   ],
   "source": [
    "draw_history(history)"
   ]
  },
  {
   "cell_type": "code",
   "execution_count": 63,
   "metadata": {},
   "outputs": [],
   "source": [
    "def do_predict(word_to_id, model, string):\n",
    "    token = [(word_to_id[w] if w in word_to_id else word_to_id['[UNK]']) for w in string.strip().split()]\n",
    "\n",
    "    model.eval()\n",
    "    with torch.no_grad():\n",
    "        inputs = torch.tensor([token]).to(args.device)\n",
    "        logits = model(inputs)\n",
    "        _, indices = logits.max(-1)\n",
    "        y_pred = indices[0].to('cpu').numpy()\n",
    "    \n",
    "    result = '학생' if y_pred == 1 else '선생님'\n",
    "    return result"
   ]
  },
  {
   "cell_type": "code",
   "execution_count": 66,
   "metadata": {},
   "outputs": [
    {
     "name": "stdout",
     "output_type": "stream",
     "text": [
      "SentenceClassificationModel(\n",
      "  (embed): Embedding(8, 10)\n",
      "  (linear): Linear(in_features=10, out_features=2, bias=True)\n",
      ")\n",
      "0.5607838332653046 0.75\n",
      "{'state_dict': OrderedDict([('embed.weight', tensor([[ 0.3081, -0.2607,  0.6032, -0.8612, -0.1111, -1.5715,  0.0548,  1.5374,\n",
      "          0.3691, -1.2422],\n",
      "        [-0.9213,  1.3117,  0.4434, -0.0452, -0.9789, -1.1211, -0.1296, -0.0182,\n",
      "          0.5430, -2.0013],\n",
      "        [-2.0482,  1.0742,  1.6725,  1.1544,  0.0116, -0.3220,  1.2534, -0.1753,\n",
      "         -1.3598,  0.3148],\n",
      "        [ 0.9796,  0.0106,  0.9365,  0.7050,  0.9805, -0.3236, -0.0805, -2.0644,\n",
      "         -0.0716,  1.5417],\n",
      "        [-1.3040, -0.6304, -0.4037,  0.0531,  2.5227, -0.9584,  0.8435, -0.7083,\n",
      "         -0.3527, -0.3483],\n",
      "        [ 0.9043, -1.6061,  0.9339, -0.2293,  0.3483, -1.3409, -2.9680,  1.3887,\n",
      "          1.0632,  0.2279],\n",
      "        [-0.3656,  0.3590, -0.0093,  0.4453, -1.5262,  1.0102,  0.1744,  0.1097,\n",
      "         -0.3140, -0.9123],\n",
      "        [ 1.5778,  1.5567, -0.2565,  1.0669,  0.7171,  0.8319, -0.3330, -2.0947,\n",
      "          2.0272,  0.0475]], device='cuda:0')), ('linear.weight', tensor([[-0.0095,  0.1551, -0.0315,  0.0005,  0.2509,  0.2972,  0.0928, -0.0925,\n",
      "          0.1535, -0.2294],\n",
      "        [ 0.0204, -0.0032,  0.0844,  0.0662,  0.0127,  0.0763, -0.0241,  0.0522,\n",
      "         -0.3211,  0.1590]], device='cuda:0')), ('linear.bias', tensor([-0.2469, -0.3040], device='cuda:0'))]), 'valid_acc': 1.0}\n",
      "0.352621890604496 1.0\n"
     ]
    }
   ],
   "source": [
    "# test and deploy\n",
    "test_model = SentenceClassificationModel(len(word_to_id))\n",
    "test_model.to(args.device)\n",
    "print(test_model)\n",
    "\n",
    "# random init\n",
    "valid_loss, valid_acc = eval_epoch(test_model, args, test_loader, loss_fn)\n",
    "print(valid_loss, valid_acc)\n",
    "\n",
    "save_dict = torch.load(args.save_path)\n",
    "print(save_dict)\n",
    "\n",
    "test_model.load_state_dict(save_dict['state_dict'])\n",
    "\n",
    "# best trained model\n",
    "valid_loss, valid_acc = eval_epoch(test_model, args, test_loader, loss_fn)\n",
    "print(valid_loss, valid_acc)\n"
   ]
  },
  {
   "cell_type": "code",
   "execution_count": 65,
   "metadata": {},
   "outputs": [
    {
     "name": "stdout",
     "output_type": "stream",
     "text": [
      "선생님\n"
     ]
    }
   ],
   "source": [
    "print(do_predict(word_to_id, test_model, '학교에 학생이 있다.'))"
   ]
  }
 ],
 "metadata": {
  "kernelspec": {
   "display_name": "dl-study-venv",
   "language": "python",
   "name": "python3"
  },
  "language_info": {
   "codemirror_mode": {
    "name": "ipython",
    "version": 3
   },
   "file_extension": ".py",
   "mimetype": "text/x-python",
   "name": "python",
   "nbconvert_exporter": "python",
   "pygments_lexer": "ipython3",
   "version": "3.10.4"
  }
 },
 "nbformat": 4,
 "nbformat_minor": 2
}
