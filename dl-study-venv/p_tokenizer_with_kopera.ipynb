{
 "cells": [
  {
   "cell_type": "code",
   "execution_count": 2,
   "metadata": {},
   "outputs": [
    {
     "name": "stdout",
     "output_type": "stream",
     "text": [
      "\n",
      "    Korpora 는 다른 분들이 연구 목적으로 공유해주신 말뭉치들을\n",
      "    손쉽게 다운로드, 사용할 수 있는 기능만을 제공합니다.\n",
      "\n",
      "    말뭉치들을 공유해 주신 분들에게 감사드리며, 각 말뭉치 별 설명과 라이센스를 공유 드립니다.\n",
      "    해당 말뭉치에 대해 자세히 알고 싶으신 분은 아래의 description 을 참고,\n",
      "    해당 말뭉치를 연구/상용의 목적으로 이용하실 때에는 아래의 라이센스를 참고해 주시기 바랍니다.\n",
      "\n",
      "    # Description\n",
      "    Author : Hyunjoong Kim lovit@github\n",
      "    Repository : https://github.com/lovit/kowikitext\n",
      "    References :\n",
      "\n",
      "    한국어 위키피디아의 덤프 데이터를 바탕을 제작한 wikitext 형식의 텍스트 파일입니다.\n",
      "    학습 및 평가를 위하여 위키페이지 별로 train (99%), dev (0.5%), test (0.5%) 로 나뉘어져있습니다.\n",
      "\n",
      "\n",
      "    # License\n",
      "    CC-BY-SA 3.0 which kowiki dump dataset is licensed\n",
      "\n",
      "[Korpora] Corpus `kowikitext` is already installed at C:\\Users\\USER\\Korpora\\kowikitext\\kowikitext_20200920.train.zip\n",
      "[Korpora] Corpus `kowikitext` is already installed at C:\\Users\\USER\\Korpora\\kowikitext\\kowikitext_20200920.train\n",
      "[Korpora] Corpus `kowikitext` is already installed at C:\\Users\\USER\\Korpora\\kowikitext\\kowikitext_20200920.test.zip\n",
      "[Korpora] Corpus `kowikitext` is already installed at C:\\Users\\USER\\Korpora\\kowikitext\\kowikitext_20200920.test\n",
      "[Korpora] Corpus `kowikitext` is already installed at C:\\Users\\USER\\Korpora\\kowikitext\\kowikitext_20200920.dev.zip\n",
      "[Korpora] Corpus `kowikitext` is already installed at C:\\Users\\USER\\Korpora\\kowikitext\\kowikitext_20200920.dev\n",
      "13950\n",
      "17141\n",
      "17640\n"
     ]
    }
   ],
   "source": [
    "# load Korpora\n",
    "import collections\n",
    "from Korpora import Korpora\n",
    "kowikitext = Korpora.load('kowikitext')\n",
    "\n",
    "print(len(kowikitext.train))\n",
    "print(len(kowikitext.dev))\n",
    "print(len(kowikitext.test))\n"
   ]
  },
  {
   "cell_type": "code",
   "execution_count": 18,
   "metadata": {},
   "outputs": [
    {
     "name": "stdout",
     "output_type": "stream",
     "text": [
      "4823\n",
      "[(' ', 601985), ('이', 54291), ('.', 45556), ('다', 43797), ('1', 42661), ('\\n', 38995), ('에', 37239), ('의', 37110), (',', 34664), ('0', 34390)]\n",
      "[('朋', 1), ('쑨', 1), ('孙', 1), ('鉛', 1), ('铜', 1), ('扫', 1), ('嬿', 1), ('扬', 1), ('璇', 1), ('晨', 1)]\n"
     ]
    }
   ],
   "source": [
    "# Char Tokenizer\n",
    "char_counter = collections.defaultdict(int)\n",
    "\n",
    "for i, line in enumerate(kowikitext.train):\n",
    "    line = line.text.strip()\n",
    "\n",
    "    for c in line:\n",
    "        char_counter[c] += 1\n",
    "\n",
    "print(len(char_counter))\n",
    "\n",
    "most_freq = sorted(char_counter.items(), key=lambda item: item[1], reverse=True)\n",
    "print(most_freq[:10])\n",
    "\n",
    "least_freq = sorted(char_counter.items(), key=lambda item: item[1])\n",
    "print(least_freq[:10])"
   ]
  },
  {
   "cell_type": "code",
   "execution_count": 21,
   "metadata": {},
   "outputs": [
    {
     "name": "stdout",
     "output_type": "stream",
     "text": [
      "4825\n"
     ]
    }
   ],
   "source": [
    "char_to_id = {'[PAD]': 0, '[UNK]': 1}\n",
    "for c, cnt in char_counter.items():\n",
    "    char_to_id[c] = len(char_to_id)\n",
    "print(len(char_to_id))"
   ]
  },
  {
   "cell_type": "code",
   "execution_count": null,
   "metadata": {},
   "outputs": [],
   "source": [
    "for i, line in enumerate(kowikitext.train):\n",
    "    if i >= 5:\n",
    "        break\n",
    "    _ids = [char_to_id[c] for c in line.text]\n",
    "    print(line.text)\n",
    "    print(_ids)"
   ]
  },
  {
   "cell_type": "markdown",
   "metadata": {},
   "source": [
    "- Char Tokenizer 장점\n",
    "  - 모든 문장을 적은 수의 vocab으로 표현 가능\n",
    "  - OOV(Out Of Vocabulary) 문제가 발생할 가능성이 낮음\n",
    "- Char Tokenizer 단점\n",
    "  - token 수가 많아지므로 연산량이 많고, 학습속도가 늦다\n",
    "  - 단어의 의미를 표현하지 못할 가능성이 높다. (이를 해결하기 위해 layer를 많이 쌓는다)"
   ]
  },
  {
   "cell_type": "code",
   "execution_count": 3,
   "metadata": {},
   "outputs": [
    {
     "name": "stdout",
     "output_type": "stream",
     "text": [
      "176098\n",
      "[('-', 4883), (':', 3274), ('있다.', 2793), ('!', 2628), ('이', 2240), ('수', 2122), ('역', 1685), ('~', 1647), ('그', 1539), ('*', 1527)]\n",
      "[('김세권(1931년', 1), (',金世權)', 1), ('검사장을', 1), ('서울시에서', 1), ('경기중학교,1982년', 1), ('12일자', 1), ('서울고등학교,1981년', 1), ('사법과에서', 1), ('합격하였다.', 1), ('김세권은', 1)]\n"
     ]
    }
   ],
   "source": [
    "# Word Tokenizer\n",
    "word_counter = collections.defaultdict(int)\n",
    "\n",
    "for i, line in enumerate(kowikitext.train):\n",
    "    line = line.text.strip()\n",
    "    for w in line.split():\n",
    "        word_counter[w] += 1\n",
    "\n",
    "print(len(word_counter))\n",
    "\n",
    "most_freq = sorted(word_counter.items(), key=lambda item: item[1], reverse=True)\n",
    "print(most_freq[:10])\n",
    "\n",
    "least_freq = sorted(word_counter.items(), key=lambda item: item[1])\n",
    "print(least_freq[:10])"
   ]
  },
  {
   "cell_type": "code",
   "execution_count": 20,
   "metadata": {},
   "outputs": [
    {
     "name": "stdout",
     "output_type": "stream",
     "text": [
      "176100\n"
     ]
    }
   ],
   "source": [
    "word_to_id = {'[PAD]': 0, '[UNK]': 1}\n",
    "for w, cnt in word_counter.items():\n",
    "    word_to_id[w] = len(word_to_id)\n",
    "print(len(word_to_id))"
   ]
  },
  {
   "cell_type": "code",
   "execution_count": null,
   "metadata": {},
   "outputs": [],
   "source": [
    "for i, line in enumerate(kowikitext.train):\n",
    "    if i >= 5:\n",
    "        break\n",
    "    _ids = [word_to_id[w] for w in line.text.strip().split()]\n",
    "    print(line.text)\n",
    "    print(_ids)"
   ]
  },
  {
   "cell_type": "markdown",
   "metadata": {},
   "source": [
    "- Word Tokenizer 장점\n",
    "  - token의 수가 적다\n",
    "- Word Tokenizer 단점\n",
    "  - 활용형으로 인해 유사 단어들이 많아지고, 각각이 다른 의미를 가질 수 있다.\n",
    "  - Vocab 수가 매우 많아지므로, 메모리 사용량과 연산량이 증가한다."
   ]
  },
  {
   "cell_type": "markdown",
   "metadata": {},
   "source": [
    "- Morph Tokenizer 장점\n",
    "  - 형태소 단위로 분할하기 때문에, 각 token이 적당한 의미를 가짐\n",
    "  - char tokenizer와 word tokenizer의 중간 정도의 token 갯수를 가짐\n",
    "- Morph Tokenizer 단점\n",
    "  - 발전 속도가 매우 늦고, 형태소 분석기들이 어느정도 오류가 있음\n",
    "  - Vocab 수가 많음"
   ]
  },
  {
   "cell_type": "code",
   "execution_count": 6,
   "metadata": {},
   "outputs": [
    {
     "name": "stdout",
     "output_type": "stream",
     "text": [
      "외교부장 2\n",
      "공원 26\n",
      "김세권(1931년 1\n",
      "~ 1647\n",
      ",金世權) 1\n",
      "defaultdict(<class 'int'>, {'▁ 외 교 부 장': 2, '▁ 공 원': 26, '▁ 김 세 권 ( 1 9 3 1 년': 1, '▁ ~': 1647, '▁ , 金 世 權 )': 1})\n"
     ]
    }
   ],
   "source": [
    "# BPE (Byte Pair Encoding)\n",
    "bpe_counter = collections.defaultdict(int)\n",
    "c = 0\n",
    "for w, n in word_counter.items():\n",
    "    c += 1\n",
    "    if c > 5:\n",
    "        break\n",
    "    print(w, n)\n",
    "    w = f\"\\u2581{w}\"\n",
    "    bpe_counter[\" \".join(w)] = n\n",
    "\n",
    "print(bpe_counter)"
   ]
  },
  {
   "cell_type": "code",
   "execution_count": 9,
   "metadata": {},
   "outputs": [],
   "source": [
    "import re\n",
    "\n",
    "def update_vocab(vocab, counter):\n",
    "    for w in counter:\n",
    "        for s in w.split():\n",
    "            if s not in vocab:\n",
    "                vocab[s] = len(vocab)\n",
    "\n",
    "    return vocab\n",
    "\n",
    "# bi-gram 빈도 계산\n",
    "def get_stats(counter):\n",
    "    pairs = collections.defaultdict(int)\n",
    "    for word, freq in counter.items():\n",
    "        symbols = word.split()\n",
    "        for i in range(len(symbols)-1):\n",
    "            pairs[symbols[i], symbols[i+1]] += freq\n",
    "\n",
    "    return pairs\n",
    "\n",
    "def merge_vocab(pair, v_in):\n",
    "    v_out = {}\n",
    "    bigram = re.escape(' '.join(pair))\n",
    "    p = re.compile(r'(?<!\\S)' + bigram + r'(?!\\S)')\n",
    "    for word in v_in:\n",
    "        w_out = p.sub(''.join(pair), word)\n",
    "        v_out[w_out] = v_in[word]\n",
    "    return v_out"
   ]
  },
  {
   "cell_type": "code",
   "execution_count": 8,
   "metadata": {},
   "outputs": [
    {
     "name": "stdout",
     "output_type": "stream",
     "text": [
      "{'[PAD]': 0, '[UNK]': 1, '▁': 2, '외': 3, '교': 4, '부': 5, '장': 6, '공': 7, '원': 8, '김': 9, '세': 10, '권': 11, '(': 12, '1': 13, '9': 14, '3': 15, '년': 16, '~': 17, ',': 18, '金': 19, '世': 20, '權': 21, ')': 22}\n"
     ]
    }
   ],
   "source": [
    "bpe_to_id = {'[PAD]': 0, '[UNK]': 1}\n",
    "bpe_to_id = update_vocab(bpe_to_id, bpe_counter)\n",
    "print(bpe_to_id)"
   ]
  },
  {
   "cell_type": "code",
   "execution_count": 18,
   "metadata": {},
   "outputs": [
    {
     "name": "stdout",
     "output_type": "stream",
     "text": [
      "defaultdict(<class 'int'>, {('▁외교부', '장'): 2, ('▁', '김'): 1, ('김', '세'): 1, ('세', '권'): 1, ('권', '('): 1, ('(', '1'): 1, ('1', '9'): 1, ('9', '3'): 1, ('3', '1'): 1, ('1', '년'): 1, ('▁', ','): 1, (',', '金'): 1, ('金', '世'): 1, ('世', '權'): 1, ('權', ')'): 1})\n",
      "('▁외교부', '장')\n",
      "{'▁외교부장': 2, '▁공원': 26, '▁ 김 세 권 ( 1 9 3 1 년': 1, '▁~': 1647, '▁ , 金 世 權 )': 1}\n",
      "{'[PAD]': 0, '[UNK]': 1, '▁': 2, '외': 3, '교': 4, '부': 5, '장': 6, '공': 7, '원': 8, '김': 9, '세': 10, '권': 11, '(': 12, '1': 13, '9': 14, '3': 15, '년': 16, '~': 17, ',': 18, '金': 19, '世': 20, '權': 21, ')': 22, '▁공': 23, '▁~': 24, '▁공원': 25, '▁외': 26, '▁외교': 27, '▁외교부': 28, '▁외교부장': 29}\n"
     ]
    }
   ],
   "source": [
    "# 아래 과정 반복\n",
    "\n",
    "\n",
    "pairs = get_stats(bpe_counter)\n",
    "print(pairs)\n",
    "\n",
    "best = max(pairs, key=pairs.get)\n",
    "print(best)\n",
    "\n",
    "bpe_counter = merge_vocab(best, bpe_counter)\n",
    "print(bpe_counter)\n",
    "\n",
    "bpe_to_id = update_vocab(bpe_to_id, bpe_counter)\n",
    "print(bpe_to_id)"
   ]
  },
  {
   "cell_type": "markdown",
   "metadata": {},
   "source": [
    "- BPE Tokenizer 장점\n",
    "  - 말뭉치가 있으면 비교적 간단하게 만들 수 있음\n",
    "  - subword를 이용하면 적은 수의 vocab으로 OOV를 최소화 할 수 있음\n",
    "- BPE Tokenizer 단점\n",
    "  - subword의 분할이 의미기준이 아닐 수 있음"
   ]
  },
  {
   "cell_type": "code",
   "execution_count": 21,
   "metadata": {},
   "outputs": [],
   "source": [
    "import shutil\n",
    "import sentencepiece as spm\n",
    "\n",
    "def train_sentencepiece(corpus, prefix, vocab_size=32000):\n",
    "    spm.SentencePieceTrainer.Train(\n",
    "        f\"--input={corpus}\" +\n",
    "        f\" --model_prefix={prefix}\" +\n",
    "        f\" --vocab_size={vocab_size + 7}\" +  # 7은 특수토큰 개수\n",
    "        \" --model_type=unigram\" +\n",
    "        \" --max_sentence_length=999999\" +  # 문장 최대 길이\n",
    "        \" --pad_id=0 --pad_piece=[PAD]\" +  # pad token 및 id 지정\n",
    "        \" --unk_id=1 --unk_piece=[UNK]\" +  # unknown token 및 id 지정\n",
    "        \" --bos_id=2 --bos_piece=[BOS]\" +  # begin of sequence token 및 id 지정\n",
    "        \" --eos_id=3 --eos_piece=[EOS]\" +  # end of sequence token 및 id 지정\n",
    "        \" --user_defined_symbols=[SEP],[CLS],[MASK]\" +  # 기타 추가 토큰 SEP: 4, CLS: 5, MASK: 6\n",
    "        \" --input_sentence_size=100000\" +  # 말뭉치에서 셈플링해서 학습\n",
    "        \" --shuffle_input_sentence=true\")  # 셈플링한 말뭉치 shuffle\n",
    "\n",
    "corpus_dir = \"C:/Users/USER/Korpora/kowikitext/\"\n",
    "\n",
    "train_sentencepiece(corpus_dir + \"kowikitext_20200920.train\", \"kowiki_32000\")\n",
    "\n",
    "shutil.copy(\"kowiki_32000.model\", corpus_dir)\n",
    "shutil.copy(\"kowiki_32000.vocab\", corpus_dir)"
   ]
  },
  {
   "cell_type": "code",
   "execution_count": 23,
   "metadata": {},
   "outputs": [
    {
     "name": "stdout",
     "output_type": "stream",
     "text": [
      "외교부장\n",
      "외교부장\n",
      "['▁외교', '부장', '▁외교', '부장']\n",
      "[4042, 5440, 4042, 5440]\n",
      "공원\n",
      "공원\n",
      "['▁공원', '▁공원']\n",
      "[3619, 3619]\n",
      "김세권(1931년 ~ ,金世權) 은 제16대 서울고등검찰청 검사장을 역임한 법조인이다.\n",
      "['▁김세', '권', '(', '19', '31', '년', '▁~', '▁', ',', '金', '世', '權', ')', '▁', '은', '▁제', '16', '대', '▁서울', '고등검찰청', '▁검사', '장을', '▁역임', '한', '▁법조인', '이다', '.']\n",
      "[9521, 308, 15, 710, 1334, 14, 79, 9, 10, 984, 3136, 5385, 12, 9, 20, 49, 936, 81, 509, 25041, 1977, 2293, 3331, 31, 17099, 38, 8]\n",
      "1931년 서울시에서 태어나 경기중학교,1982년 4월 12일자 매일경제 서울고등학교,1981년 4월 25일자 동아일보 1956년 서울대학교 법학과를 나온 후 1956년 제8회 고등고시 사법과에서 합격하였다. 1958년 서울지방검찰청 검사에 임용되었다.\n",
      "김세권은 두산그룹 창업주인 박두병 딸인 박용언과 결혼했다.  김세권과 박용언은 아들은 1970년대 봉제업으로 성장한 태흥의 창업주 권태흥의 딸 권혜경과 결혼한 김형일 일경산업개발 부회장으로 1990년대 초반 대한민국에 게스·폴로 등을 수입해 유명세를 탔던 기업가다. 딸 김희정의 남편은 최원현 케이씨엘 대표변호사다.박승직 박두병 박용곤 박정원 재벌가 4대 33명 결혼 스토리\n",
      "대검찰청 차장으로 재직하던 1986년 2월 전국 검사장 회의를 주재하면서 \"국법질서 확립을 위한 검찰의 과제\"라는 주제로 토의를 하여 국법질서와 사회기강 확립, 경제도약의 전기가 될 수 있는 현재의 국내외 경제여건을 최대한 유지, 활용할 수 있도록 경제질서교란사범 엄단, 민생을 불안하게 하는 반윤리적인 강력사범에 대한 단호한 응징, 사회적 신분과 지위의 고하를 가리지 않는 엄정 공평한 법집행을 1986년도 검찰권 행사의 방향으로 정했다.1986년 2월 25일자 동아일보\n",
      "['▁1931', '년', '▁서울시', '에서', '▁태어나', '▁경기', '중학교', ',', '1982', '년', '▁4', '월', '▁12', '일자', '▁매일경제', '▁서울', '고등학교', ',', '1981', '년', '▁4', '월', '▁25', '일자', '▁동아일보', '▁1956', '년', '▁서울대학교', '▁법학과', '를', '▁나온', '▁후', '▁1956', '년', '▁제', '8', '회', '▁고등', '고시', '▁사법', '과', '에서', '▁합격', '하였다', '.', '▁1958', '년', '▁서울', '지방검찰청', '▁검사', '에', '▁임용', '되었다', '.', '▁김세', '권', '은', '▁두산', '그룹', '▁창업', '주', '인', '▁박', '두', '병', '▁딸인', '▁박용', '언', '과', '▁결혼했다', '.', '▁김세', '권', '과', '▁박용', '언', '은', '▁아들', '은', '▁1970', '년대', '▁봉', '제', '업', '으로', '▁성장', '한', '▁태', '흥', '의', '▁창업', '주', '▁권', '태', '흥', '의', '▁딸', '▁권', '혜', '경', '과', '▁결혼', '한', '▁김형', '일', '▁일', '경', '산업', '개발', '▁부회장', '으로', '▁1990', '년대', '▁초반', '▁대한민국', '에', '▁게', '스', '·', '폴', '로', '▁등을', '▁수입', '해', '▁유명', '세', '를', '▁', '탔', '던', '▁기업가', '다', '.', '▁딸', '▁김희', '정', '의', '▁남편', '은', '▁최원', '현', '▁케이', '씨', '엘', '▁대표', '변호사', '다', '.', '박', '승', '직', '▁박', '두', '병', '▁박용', '곤', '▁박정', '원', '▁재벌', '가', '▁4', '대', '▁33', '명', '▁결혼', '▁스토리', '▁대', '검찰청', '▁차장', '으로', '▁재직', '하던', '▁1986', '년', '▁2', '월', '▁전국', '▁검사', '장', '▁회의', '를', '▁주재', '하면서', '▁\"', '국', '법', '질서', '▁확립', '을', '▁위한', '▁검찰', '의', '▁과제', '\"', '라는', '▁주제로', '▁토', '의', '를', '▁하여', '▁국', '법', '질서', '와', '▁사회', '기', '강', '▁확립', ',', '▁경제', '도약', '의', '▁전기', '가', '▁될', '▁수', '▁있는', '▁현재', '의', '▁국내외', '▁경제', '여', '건', '을', '▁최대한', '▁유지', ',', '▁활용', '할', '▁수', '▁있도록', '▁경제', '질서', '교', '란', '사범', '▁엄', '단', ',', '▁민', '생', '을', '▁불안', '하게', '▁하는', '▁반', '윤리', '적인', '▁강력', '사범', '에', '▁대한', '▁단', '호', '한', '▁응', '징', ',', '▁사회적', '▁신분', '과', '▁지위', '의', '▁고', '하', '를', '▁가리', '지', '▁않는', '▁엄', '정', '▁공', '평', '한', '▁법집행', '을', '▁1986', '년', '도', '▁검찰', '권', '▁행사', '의', '▁방향으로', '▁정', '했다', '.', '1986', '년', '▁2', '월', '▁25', '일자', '▁동아일보']\n",
      "[5771, 14, 8898, 32, 4679, 452, 1122, 10, 16905, 14, 55, 22, 93, 3267, 18572, 509, 1114, 10, 25663, 14, 55, 22, 472, 3267, 4993, 4996, 14, 3711, 17500, 18, 3435, 136, 4996, 14, 49, 301, 61, 7650, 6943, 6382, 28, 32, 5067, 65, 8, 6872, 14, 509, 12001, 1977, 17, 16381, 105, 8, 9521, 308, 20, 4668, 2456, 16550, 98, 36, 496, 563, 527, 11831, 12283, 1265, 28, 15621, 8, 9521, 308, 28, 12283, 1265, 20, 749, 20, 2053, 919, 1361, 103, 1106, 33, 2109, 31, 1448, 1726, 11, 16550, 98, 1011, 585, 1726, 11, 976, 1011, 1676, 226, 28, 1200, 31, 11651, 24, 613, 226, 2605, 2812, 8773, 33, 1276, 919, 5467, 150, 17, 1835, 85, 96, 4145, 27, 686, 3377, 94, 4201, 132, 18, 9, 21552, 344, 16351, 50, 8, 976, 8655, 140, 11, 2601, 20, 17808, 173, 4257, 604, 2627, 1088, 16740, 50, 8, 890, 388, 627, 496, 563, 527, 12283, 1975, 8151, 127, 19563, 21, 55, 81, 3971, 101, 1200, 3827, 232, 11167, 13416, 33, 4439, 1058, 1820, 14, 41, 22, 1385, 1977, 135, 2789, 18, 6272, 442, 63, 298, 406, 18537, 5901, 13, 429, 5875, 11, 10808, 54, 217, 8399, 1201, 11, 18, 1328, 1510, 406, 18537, 34, 798, 56, 288, 5901, 10, 1084, 17534, 11, 1157, 21, 1031, 48, 86, 331, 11, 12015, 1084, 454, 855, 13, 9635, 1188, 10, 2639, 78, 48, 2146, 1084, 18537, 326, 464, 15468, 4277, 270, 10, 1199, 501, 13, 8591, 138, 361, 510, 17574, 177, 2172, 15468, 17, 147, 720, 99, 31, 4226, 2929, 10, 2893, 6418, 28, 3018, 11, 312, 224, 18, 5609, 53, 1052, 4277, 140, 597, 886, 31, 30269, 13, 1820, 14, 35, 5875, 308, 1681, 11, 3108, 230, 70, 8, 22492, 14, 41, 22, 472, 3267, 4993]\n",
      "1958년 ~ 1959년 서울지방검찰청 검사\n",
      "1968년 법무부 출입국관리과장 겸 서울고등검찰청 검사\n",
      "1970년 ~ 1971년대검찰청 수사국 제3과장\n",
      "1971년 서울지방검찰청 동부지청 부장검사\n",
      "1975년 서울고등검찰청 검사\n",
      "1977년 대전지방검찰청 차장검사\n",
      "1978년 2월 11일 ~ 1980년 6월 8일 제3대 서울지방검찰청 성북지청 지청장장\n",
      "1981년 4월 27일 ~ 1981년 12월 16일 제25대 대전지방검찰청 검사장\n",
      "1981년 법무부 기획관리실장\n",
      "1982년 6월 18일 ~ 1985년 5월 24일 제15대 광주고등검찰청 검사장\n",
      "1985년 5월 25일 ~ 1986년 4월 29일 대검찰청 차장검사\n",
      "1986년 5월 2일 ~ 1987년 6월 7일 제16대 서울고등검찰청 검사장\n",
      "1987년 8월 서울시 강남구 변호사 개업\n",
      "1988년 ~ 2001년 재단법인 연강재단 이사장\n",
      "1994년 ~ 2008년 법무법인 케이씨엘 대표 변호사\n",
      "1995년 ~ 1998년 한국형사정책연구원 이사장\n",
      "2008년 ~ 법무법인 케이씨엘 고문 변호사\n",
      "['▁1958', '년', '▁~', '▁1959', '년', '▁서울', '지방검찰청', '▁검사', '▁1968', '년', '▁법무부', '▁출입', '국', '관리', '과장', '▁겸', '▁서울', '고등검찰청', '▁검사', '▁1970', '년', '▁~', '▁1971', '년대', '검찰청', '▁수사', '국', '▁제', '3', '과장', '▁1971', '년', '▁서울', '지방검찰청', '▁동부', '지청', '▁부장', '검사', '▁1975', '년', '▁서울', '고등검찰청', '▁검사', '▁1977', '년', '▁대전', '지방검찰청', '▁차장', '검사', '▁1978', '년', '▁2', '월', '▁11', '일', '▁~', '▁1980', '년', '▁6', '월', '▁8', '일', '▁제', '3', '대', '▁서울', '지방검찰청', '▁성', '북', '지청', '▁지청', '장', '장', '▁1981', '년', '▁4', '월', '▁27', '일', '▁~', '▁1981', '년', '▁12', '월', '▁16', '일', '▁제', '25', '대', '▁대전', '지방검찰청', '▁검사', '장', '▁1981', '년', '▁법무부', '▁기획', '관리', '실장', '▁1982', '년', '▁6', '월', '▁18', '일', '▁~', '▁1985', '년', '▁5', '월', '▁24', '일', '▁제', '15', '대', '▁광주', '고등검찰청', '▁검사', '장', '▁1985', '년', '▁5', '월', '▁25', '일', '▁~', '▁1986', '년', '▁4', '월', '▁29', '일', '▁대', '검찰청', '▁차장', '검사', '▁1986', '년', '▁5', '월', '▁2', '일', '▁~', '▁1987', '년', '▁6', '월', '▁7', '일', '▁제', '16', '대', '▁서울', '고등검찰청', '▁검사', '장', '▁1987', '년', '▁8', '월', '▁서울시', '▁강남구', '▁변호사', '▁개업', '▁1988', '년', '▁~', '▁2001', '년', '▁재단법인', '▁연', '강', '재단', '▁이사장', '▁1994', '년', '▁~', '▁2008', '년', '▁법무', '법인', '▁케이', '씨', '엘', '▁대표', '▁변호사', '▁1995', '년', '▁~', '▁1998', '년', '▁한국', '형사', '정책', '연구원', '▁이사장', '▁2008', '년', '▁~', '▁법무', '법인', '▁케이', '씨', '엘', '▁고문', '▁변호사']\n",
      "[6872, 14, 79, 4307, 14, 509, 12001, 1977, 3274, 14, 8479, 6728, 298, 1853, 9604, 1633, 509, 25041, 1977, 2053, 14, 79, 2826, 919, 11167, 4080, 298, 49, 124, 9604, 2826, 14, 509, 12001, 2207, 16656, 5697, 5317, 3110, 14, 509, 25041, 1977, 2986, 14, 1164, 12001, 13416, 5317, 2854, 14, 41, 22, 102, 24, 79, 1464, 14, 71, 22, 82, 24, 49, 124, 81, 509, 12001, 268, 1238, 16656, 12272, 135, 135, 2401, 14, 55, 22, 504, 24, 79, 2401, 14, 93, 22, 187, 24, 49, 1145, 81, 1164, 12001, 1977, 135, 2401, 14, 8479, 2406, 1853, 13825, 2153, 14, 71, 22, 227, 24, 79, 1669, 14, 64, 22, 463, 24, 49, 790, 81, 1789, 25041, 1977, 135, 1669, 14, 64, 22, 472, 24, 79, 1820, 14, 55, 22, 565, 24, 232, 11167, 13416, 5317, 1820, 14, 64, 22, 41, 24, 79, 1483, 14, 71, 22, 84, 24, 49, 936, 81, 509, 25041, 1977, 135, 1483, 14, 82, 22, 8898, 16210, 3790, 3550, 1529, 14, 79, 791, 14, 14466, 702, 288, 6267, 4608, 1158, 14, 79, 277, 14, 7593, 4402, 4257, 604, 2627, 1088, 3790, 1215, 14, 79, 972, 14, 273, 9882, 2804, 3401, 4608, 277, 14, 79, 7593, 4402, 4257, 604, 2627, 4819, 3790]\n"
     ]
    },
    {
     "ename": "",
     "evalue": "",
     "output_type": "error",
     "traceback": [
      "\u001b[1;31m현재 셀 또는 이전 셀에서 코드를 실행하는 동안 Kernel이 충돌했습니다. \n",
      "\u001b[1;31m셀의 코드를 검토하여 가능한 오류 원인을 식별하세요. \n",
      "\u001b[1;31m자세한 내용을 보려면 <a href='https://aka.ms/vscodeJupyterKernelCrash'>여기</a>를 클릭하세요. \n",
      "\u001b[1;31m자세한 내용은 Jupyter <a href='command:jupyter.viewOutput'>로그</a>를 참조하세요."
     ]
    }
   ],
   "source": [
    "spm_vocab = spm.SentencePieceProcessor()\n",
    "spm_vocab.load(corpus_dir + \"kowiki_32000.model\")\n",
    "\n",
    "for i, line in enumerate(kowikitext.train):\n",
    "    if i >= 5:\n",
    "        break\n",
    "\n",
    "    line = line.text.strip()\n",
    "    print(line)\n",
    "\n",
    "    tokens = spm_vocab.EncodeAsPieces(line)\n",
    "    print(tokens)\n",
    "\n",
    "    _ids = spm_vocab.EncodeAsIds(line)\n",
    "    print(_ids)"
   ]
  }
 ],
 "metadata": {
  "kernelspec": {
   "display_name": "dl-study-venv",
   "language": "python",
   "name": "python3"
  },
  "language_info": {
   "codemirror_mode": {
    "name": "ipython",
    "version": 3
   },
   "file_extension": ".py",
   "mimetype": "text/x-python",
   "name": "python",
   "nbconvert_exporter": "python",
   "pygments_lexer": "ipython3",
   "version": "3.10.4"
  }
 },
 "nbformat": 4,
 "nbformat_minor": 2
}
