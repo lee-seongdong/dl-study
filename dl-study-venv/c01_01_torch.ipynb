{
 "cells": [
  {
   "cell_type": "code",
   "execution_count": 2,
   "id": "c1d9a629-7879-44e9-940b-219ff114c7d0",
   "metadata": {},
   "outputs": [
    {
     "name": "stdout",
     "output_type": "stream",
     "text": [
      "tensor([[1, 2],\n",
      "        [3, 4]])\n",
      "tensor([[1, 2],\n",
      "        [3, 4]], device='cuda:0')\n",
      "tensor([[1., 2.],\n",
      "        [3., 4.]], dtype=torch.float64)\n"
     ]
    }
   ],
   "source": [
    "import torch\n",
    "# if torch.cuda.is_available():\n",
    "#     print('use CUDA')\n",
    "#     torch.cuda.device(0)\n",
    "\n",
    "print(\"# 텐서 생성\")\n",
    "print(torch.tensor([[1, 2], [3, 4]])) # 2차원 텐서 생성\n",
    "print(torch.tensor([[1, 2], [3, 4]], device='cuda:0')) # GPU 사용\n",
    "print(torch.tensor([[1, 2], [3, 4]], dtype=torch.float64)) # 데이터 타입 지정\n"
   ]
  },
  {
   "cell_type": "code",
   "execution_count": null,
   "id": "232dd948",
   "metadata": {},
   "outputs": [],
   "source": [
    "\n",
    "print(\"# 텐서 변환\")\n",
    "temp = torch.tensor([[1, 2], [3, 4]])\n",
    "print(temp.numpy()) # ndarray로 변환\n",
    "temp = torch.tensor([[1, 2], [3, 4]], device='cuda:0')\n",
    "print(temp.to('cpu').numpy()) # device 변환 후 ndarray로 변환\n",
    "\n",
    "temp = torch.FloatTensor([1, 2, 3, 4, 5, 6, 7]) # 1차원 벡터 생성\n",
    "print(temp)\n",
    "print(temp[0], temp[1], temp[-1]) # 인덱스로 접근\n",
    "print(temp[2:5], temp[4:-1]) # 슬라이스로 접근"
   ]
  },
  {
   "cell_type": "code",
   "execution_count": null,
   "id": "de0e0bd5",
   "metadata": {},
   "outputs": [],
   "source": [
    "print(\"# 텐서 연산\")\n",
    "v = torch.tensor([1, 2, 3])\n",
    "w = torch.tensor([3, 4, 6])\n",
    "print(w - v)"
   ]
  },
  {
   "cell_type": "code",
   "execution_count": null,
   "id": "ca14a95a",
   "metadata": {},
   "outputs": [],
   "source": [
    "print(\"# 텐서 차원 변환\")\n",
    "temp = torch.tensor([[1, 2], [3, 4]])\n",
    "print(temp.shape)\n",
    "print(temp.view(4, 1)) # 2x2 -> 4x1\n",
    "print(temp.view(-1)) # 2x2 -> 4\n",
    "print(temp.view(1, -1)) # 2x2 -> 1x? -> 1x4\n",
    "print(temp.view(-1, 1)) # 2x2 -> ?x1 -> 4x1"
   ]
  }
 ],
 "metadata": {
  "kernelspec": {
   "display_name": "dl-study-venv",
   "language": "python",
   "name": "python3"
  },
  "language_info": {
   "codemirror_mode": {
    "name": "ipython",
    "version": 3
   },
   "file_extension": ".py",
   "mimetype": "text/x-python",
   "name": "python",
   "nbconvert_exporter": "python",
   "pygments_lexer": "ipython3",
   "version": "3.10.4"
  }
 },
 "nbformat": 4,
 "nbformat_minor": 5
}
