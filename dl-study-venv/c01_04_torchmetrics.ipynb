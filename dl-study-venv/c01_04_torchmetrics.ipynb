{
 "cells": [
  {
   "cell_type": "code",
   "execution_count": 1,
   "metadata": {},
   "outputs": [],
   "source": [
    "import torch\n",
    "import torchmetrics"
   ]
  },
  {
   "cell_type": "code",
   "execution_count": 2,
   "metadata": {},
   "outputs": [
    {
     "name": "stdout",
     "output_type": "stream",
     "text": [
      "# 함수를 이용한 모델 평가\n",
      "tensor([[0.6088, 0.0701, 0.0400, 0.0757, 0.2054],\n",
      "        [0.2161, 0.0658, 0.2317, 0.2365, 0.2499],\n",
      "        [0.0830, 0.4055, 0.1698, 0.1946, 0.1472],\n",
      "        [0.1341, 0.0491, 0.2430, 0.0640, 0.5100],\n",
      "        [0.0486, 0.1145, 0.4597, 0.2159, 0.1613],\n",
      "        [0.1146, 0.3752, 0.1983, 0.2104, 0.1015],\n",
      "        [0.1928, 0.0696, 0.0584, 0.2315, 0.4476],\n",
      "        [0.0505, 0.7132, 0.0934, 0.0600, 0.0829],\n",
      "        [0.5008, 0.0694, 0.1031, 0.1543, 0.1723],\n",
      "        [0.3387, 0.1831, 0.0398, 0.0869, 0.3515]])\n",
      "tensor([3, 3, 4, 0, 1, 3, 4, 0, 4, 0])\n",
      "tensor(0.1000)\n"
     ]
    }
   ],
   "source": [
    "# 함수를 이용한 모델 평가\n",
    "print('# 함수를 이용한 모델 평가')\n",
    "preds = torch.randn(10, 5).softmax(dim=1)\n",
    "target = torch.randint(5, (10,))\n",
    "acc = torchmetrics.functional.accuracy(preds, target, 'multiclass', num_classes=5)\n",
    "\n",
    "print(preds)\n",
    "print(target)\n",
    "print(acc)"
   ]
  },
  {
   "cell_type": "code",
   "execution_count": 3,
   "metadata": {},
   "outputs": [
    {
     "name": "stdout",
     "output_type": "stream",
     "text": [
      "\n",
      "# 모듈을 이용한 모델 평가\n",
      "Accuracy on batch 0: 0.10000000149011612\n",
      "Accuracy on batch 1: 0.20000000298023224\n",
      "Accuracy on batch 2: 0.20000000298023224\n",
      "Accuracy on batch 3: 0.20000000298023224\n",
      "Accuracy on batch 4: 0.20000000298023224\n",
      "Accuracy on batch 5: 0.20000000298023224\n",
      "Accuracy on batch 6: 0.4000000059604645\n",
      "Accuracy on batch 7: 0.0\n",
      "Accuracy on batch 8: 0.4000000059604645\n",
      "Accuracy on batch 9: 0.0\n",
      "Accuracy on all data: 0.1899999976158142\n"
     ]
    }
   ],
   "source": [
    "# 모듈을 이용한 모델 평가\n",
    "print('\\n# 모듈을 이용한 모델 평가')\n",
    "metrics = torchmetrics.Accuracy(task='multiclass', num_classes=5)\n",
    "\n",
    "n_batches = 10\n",
    "for i in range(n_batches):\n",
    "    preds = torch.randn(10, 5).softmax(dim=1)\n",
    "    target = torch.randint(5, (10,))\n",
    "    acc = metrics(preds, target)\n",
    "    print(f'Accuracy on batch {i}: {acc}') # 현재 배치에서의 모델 평가\n",
    "\n",
    "acc = metrics.compute()\n",
    "print(f'Accuracy on all data: {acc}')"
   ]
  }
 ],
 "metadata": {
  "kernelspec": {
   "display_name": "dl-study-venv",
   "language": "python",
   "name": "python3"
  },
  "language_info": {
   "codemirror_mode": {
    "name": "ipython",
    "version": 3
   },
   "file_extension": ".py",
   "mimetype": "text/x-python",
   "name": "python",
   "nbconvert_exporter": "python",
   "pygments_lexer": "ipython3",
   "version": "3.10.4"
  }
 },
 "nbformat": 4,
 "nbformat_minor": 2
}
